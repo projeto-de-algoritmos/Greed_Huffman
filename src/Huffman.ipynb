{
 "cells": [
  {
   "cell_type": "markdown",
   "metadata": {},
   "source": [
    "# Huffman Compression Algorithm Test"
   ]
  },
  {
   "cell_type": "code",
   "execution_count": 97,
   "metadata": {},
   "outputs": [],
   "source": [
    "import os\n",
    "import heapq\n",
    "import matplotlib\n",
    "import random"
   ]
  },
  {
   "cell_type": "markdown",
   "metadata": {},
   "source": [
    "## Node \n",
    "### We create a node to use it in our tree"
   ]
  },
  {
   "cell_type": "code",
   "execution_count": 98,
   "metadata": {},
   "outputs": [],
   "source": [
    "class Node:\n",
    "    def __init__(self, char, fq):\n",
    "        self.fq = fq\n",
    "        self.char = char\n",
    "        self.right_son = None\n",
    "        self.left_son = None\n",
    "\n",
    "#     def __cmp__(self, other):\n",
    "#         if other == None:\n",
    "#             return -1\n",
    "#         if(not isinstance(other, Node)):\n",
    "#             return -1\n",
    "        \n",
    "#         return self.fq > other.fq\n",
    "    \n",
    "    def __lt__(self, other):\n",
    "        return self.fq > other.fq"
   ]
  },
  {
   "cell_type": "markdown",
   "metadata": {},
   "source": [
    "## Huffman Algorithm Class"
   ]
  },
  {
   "cell_type": "markdown",
   "metadata": {},
   "source": [
    "### In this class, we create all the steps in the huffman algorithm, starting at the frequency dictionary and ending at the compress/decompress functions"
   ]
  },
  {
   "cell_type": "code",
   "execution_count": 99,
   "metadata": {},
   "outputs": [],
   "source": [
    "class Huffman:\n",
    "    def __init__(self, path):\n",
    "        self.path = path\n",
    "        self.heap = []\n",
    "        self.codes = {}\n",
    "        self.decript_map = {}\n",
    "\n",
    "    def frequency_dict(self, txt):\n",
    "        frequency = {}\n",
    "        for c in txt:\n",
    "            if c not in frequency:\n",
    "                frequency[c] = 0\n",
    "            frequency[c] += 1\n",
    "        return frequency\n",
    "\n",
    "    def create_heap(self, f):\n",
    "        for c in f:\n",
    "            node = Node(c, f[c])\n",
    "            heapq.heappush(self.heap, node)\n",
    "\n",
    "    def merge(self):\n",
    "        while(len(self.heap) > 1):\n",
    "            n_1 = heapq.heappop(self.heap)\n",
    "            n_2 = heapq.heappop(self.heap)\n",
    "\n",
    "            merged_node = Node(None, n_1.fq + n_2.fq)\n",
    "            merged_node.left_son = n_1\n",
    "            merged_node.right_son = n_2\n",
    "\n",
    "            heapq.heappush(self.heap, merged_node)\n",
    "\n",
    "\n",
    "    \n",
    "    def make_codes(self, root, c_code):\n",
    "        if root == None:\n",
    "            return \n",
    "\n",
    "        if root.char != None:\n",
    "            self.codes[root.char] = c_code\n",
    "            self.decript_map[c_code] = root.char\n",
    "        \n",
    "        self.make_codes(root.left_son, c_code + '0')\n",
    "        self.make_codes(root.right_son, c_code + '1')\n",
    "\n",
    "    def code_caller(self):\n",
    "        c_code = ''\n",
    "        root = heapq.heappop(self.heap)\n",
    "        self.make_codes(root, c_code)\n",
    "\n",
    "    def encoded_txt(self, txt):\n",
    "        encoded = ''\n",
    "        for c in txt:\n",
    "            encoded += self.codes[c]\n",
    "        return encoded\n",
    "\n",
    "    def encoded_txt_compression_helper(self, encoded):\n",
    "        \"Add 0's in lines with number of bits not divisible by 8\"\n",
    "        added = 8 - len(encoded) % 8\n",
    "        \n",
    "        for i in range(added):\n",
    "            encoded += \"0\"\n",
    "        \n",
    "        info = \"{0:08b}\".format(added)\n",
    "        encoded = info + encoded\n",
    "        return encoded\n",
    "    \n",
    "    def get_byte_array(self, padded_encoded_text):\n",
    "        if len(padded_encoded_text) % 8 != 0:\n",
    "            print(\"Encoded text not padded properly\")\n",
    "            exit(0)\n",
    "\n",
    "        b = bytearray()\n",
    "        for i in range(0, len(padded_encoded_text), 8):\n",
    "            byte = padded_encoded_text[i:i+8]\n",
    "            b.append(int(byte, 2))\n",
    "        return b\n",
    "\n",
    "    def compress(self):\n",
    "\n",
    "        filename, file_extension = os.path.splitext(self.path)\n",
    "        output_path = filename + \".bin\"\n",
    "\n",
    "        with open(self.path, 'r+') as file, open(output_path, 'wb') as output:\n",
    "            text = file.read()\n",
    "            text = text.rstrip()\n",
    "\n",
    "            frequency = self.frequency_dict(text)\n",
    "            self.create_heap(frequency)\n",
    "            self.merge()\n",
    "            self.code_caller()\n",
    "\n",
    "            encoded_text = self.encoded_txt(text)\n",
    "            padded_encoded_text = self.encoded_txt_compression_helper(encoded_text)\n",
    "\n",
    "            b = self.get_byte_array(padded_encoded_text)\n",
    "            output.write(bytes(b))\n",
    "\n",
    "        # print(\"Compressed\")\n",
    "        return output_path\n"
   ]
  },
  {
   "cell_type": "code",
   "execution_count": 100,
   "metadata": {
    "scrolled": false
   },
   "outputs": [
    {
     "name": "stdout",
     "output_type": "stream",
     "text": [
      "22 bytes\n",
      "17 bytes\n"
     ]
    }
   ],
   "source": [
    "path = \"a.txt\"\n",
    "print(\"{} bytes\".format(os.path.getsize(path)))\n",
    "\n",
    "h = Huffman(path)\n",
    "output_path = h.compress()\n",
    "print(\"{} bytes\".format(os.path.getsize(output_path)))"
   ]
  },
  {
   "cell_type": "markdown",
   "metadata": {},
   "source": [
    "### The file have been reduced by 5 bytes!"
   ]
  },
  {
   "cell_type": "markdown",
   "metadata": {},
   "source": [
    "### We can see that our code compress the file, so lets test a couple more times"
   ]
  },
  {
   "cell_type": "code",
   "execution_count": 101,
   "metadata": {},
   "outputs": [],
   "source": [
    "compressed_percentage = []\n",
    "\n",
    "for i in range(0, 100):\n",
    "    path = \"txt_files/a{}.txt\".format(i)\n",
    "    with open(path, 'w') as file:\n",
    "        for i in range(100):\n",
    "            file.write(str(random.randint(0, 1000)))\n",
    "    h = Huffman(path)\n",
    "    output_path = h.compress()\n",
    "    compressed_percentage.append(100 - (100 * os.path.getsize(output_path) / os.path.getsize(path)))\n"
   ]
  },
  {
   "cell_type": "code",
   "execution_count": 102,
   "metadata": {
    "scrolled": true
   },
   "outputs": [
    {
     "data": {
      "text/plain": [
       "Text(0, 0.5, 'Quantitiy')"
      ]
     },
     "execution_count": 102,
     "metadata": {},
     "output_type": "execute_result"
    },
    {
     "data": {
      "image/png": "[encoded data removed]",
      "text/plain": [
       "<Figure size 432x288 with 1 Axes>"
      ]
     },
     "metadata": {
      "needs_background": "light"
     },
     "output_type": "display_data"
    }
   ],
   "source": [
    "plt.hist(compressed_percentage, bins = 20, alpha = .5, edgecolor = \"black\", linewidth = 1)\n",
    "plt.grid(axis='y', alpha=0.75)\n",
    "plt.xlabel(\"Percentage Lost\")\n",
    "plt.ylabel(\"Quantitiy\")"
   ]
  },
  {
   "cell_type": "markdown",
   "metadata": {},
   "source": [
    "### To end the test, lets calculate the mean from all of the compressions"
   ]
  },
  {
   "cell_type": "code",
   "execution_count": 103,
   "metadata": {},
   "outputs": [
    {
     "data": {
      "text/plain": [
       "25.139937893001523"
      ]
     },
     "execution_count": 103,
     "metadata": {},
     "output_type": "execute_result"
    }
   ],
   "source": [
    "sum(compressed_percentage) / len(compressed_percentage)"
   ]
  }
 ],
 "metadata": {
  "kernelspec": {
   "display_name": "Python 3",
   "language": "python",
   "name": "python3"
  },
  "language_info": {
   "codemirror_mode": {
    "name": "ipython",
    "version": 3
   },
   "file_extension": ".py",
   "mimetype": "text/x-python",
   "name": "python",
   "nbconvert_exporter": "python",
   "pygments_lexer": "ipython3",
   "version": "3.5.3"
  }
 },
 "nbformat": 4,
 "nbformat_minor": 2
}
